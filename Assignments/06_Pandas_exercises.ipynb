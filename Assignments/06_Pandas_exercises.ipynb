{
  "cells": [
    {
      "cell_type": "markdown",
      "metadata": {
        "id": "view-in-github",
        "colab_type": "text"
      },
      "source": [
        "<a href=\"https://colab.research.google.com/github/lyledillion/Data-Science-1002/blob/main/Assignments/06_Pandas_exercises.ipynb\" target=\"_parent\"><img src=\"https://colab.research.google.com/assets/colab-badge.svg\" alt=\"Open In Colab\"/></a>"
      ]
    },
    {
      "cell_type": "markdown",
      "metadata": {
        "id": "L_nKffgWPs-1"
      },
      "source": [
        "## Pandas exercises 1\n",
        "\n",
        "1. Import dependencies"
      ]
    },
    {
      "cell_type": "code",
      "execution_count": 2,
      "metadata": {
        "id": "hASl6yoNPs-2"
      },
      "outputs": [],
      "source": [
        "import pandas as pd"
      ]
    },
    {
      "cell_type": "markdown",
      "metadata": {
        "id": "33KUt_fEPs-2"
      },
      "source": [
        "---"
      ]
    },
    {
      "cell_type": "code",
      "execution_count": 7,
      "metadata": {
        "id": "ZZmr1aIoPs-3"
      },
      "outputs": [],
      "source": [
        "list = [98, 24, 46, 87, 33]"
      ]
    },
    {
      "cell_type": "markdown",
      "metadata": {
        "id": "jGSEPEqXPs-3"
      },
      "source": [
        "2. Convert `list` to a pandas series using `pd.Series`"
      ]
    },
    {
      "cell_type": "code",
      "execution_count": 4,
      "metadata": {
        "id": "nZ1y9HF6Ps-3"
      },
      "outputs": [],
      "source": [
        "series = pd.Series(list)"
      ]
    },
    {
      "cell_type": "markdown",
      "metadata": {
        "id": "rORNi5YyPs-4"
      },
      "source": [
        "3. Take the above series and add an index that starts at 2 and steps by 3"
      ]
    },
    {
      "cell_type": "code",
      "execution_count": 6,
      "metadata": {
        "id": "YC8f3lAMPs-4",
        "outputId": "e3798a1d-1534-453e-91ac-81b99a739de6",
        "colab": {
          "base_uri": "https://localhost:8080/"
        }
      },
      "outputs": [
        {
          "output_type": "stream",
          "name": "stdout",
          "text": [
            "0    98\n",
            "1    24\n",
            "2    46\n",
            "3    87\n",
            "4    33\n",
            "dtype: int64\n"
          ]
        }
      ],
      "source": [
        "index_1= range(2, 2 + len(series) *3 ,3)\n",
        "print(series)"
      ]
    },
    {
      "cell_type": "markdown",
      "metadata": {
        "id": "2P199KkwPs-4"
      },
      "source": [
        "4. Create a dictionary of 4 names, ages, and careers   \n",
        "Convert this dictionary to a pandas dataframe: `df`.  \n",
        "Print the dataframe."
      ]
    },
    {
      "cell_type": "code",
      "execution_count": 9,
      "metadata": {
        "id": "lWoGNi5hPs-5",
        "outputId": "06a5fd48-b2bb-4858-861e-824c74da1144",
        "colab": {
          "base_uri": "https://localhost:8080/"
        }
      },
      "outputs": [
        {
          "output_type": "stream",
          "name": "stdout",
          "text": [
            "       Name  Age   Career\n",
            "0  Caroline   45   Doctor\n",
            "1       Ava   31  Teacher\n",
            "2    George   66   Author\n",
            "3     Tyler   81     Chef\n"
          ]
        }
      ],
      "source": [
        "\n",
        "data = {\n",
        "    'Name': ['Caroline', 'Ava', 'George', 'Tyler'],\n",
        "    'Age': [45, 31, 66, 81],\n",
        "    'Career': ['Doctor', 'Teacher', 'Author', 'Chef']\n",
        "\n",
        "}\n",
        "df=pd.DataFrame(data)\n",
        "print(df)"
      ]
    },
    {
      "cell_type": "markdown",
      "metadata": {
        "id": "TD-Ej1K_Ps-5"
      },
      "source": [
        "5. Name the index of `df` 'participant_id'.  \n",
        "Print `df`."
      ]
    },
    {
      "cell_type": "code",
      "execution_count": 15,
      "metadata": {
        "id": "_54NO6pRPs-5",
        "outputId": "59e4ddf9-5f4c-41c9-fad2-1d7dfc16665c",
        "colab": {
          "base_uri": "https://localhost:8080/"
        }
      },
      "outputs": [
        {
          "output_type": "stream",
          "name": "stdout",
          "text": [
            "                    Name  Age   Career\n",
            "participant_id                        \n",
            "1               Caroline   45   Doctor\n",
            "2                    Ava   31  Teacher\n",
            "3                 George   66   Author\n",
            "4                  Tyler   81     Chef\n"
          ]
        }
      ],
      "source": [
        "df= pd.DataFrame(data, index=pd.Index(name='participant_id', data= range (1,5)))\n",
        "\n",
        "print (df)"
      ]
    },
    {
      "cell_type": "markdown",
      "metadata": {
        "id": "-JXKN55IPs-5"
      },
      "source": [
        "6. Use a pandas function to determine the data types of the columns of `df`."
      ]
    },
    {
      "cell_type": "code",
      "execution_count": 18,
      "metadata": {
        "id": "pmbPdPYmPs-5",
        "outputId": "a408b37e-2349-43be-a146-b8920cce4278",
        "colab": {
          "base_uri": "https://localhost:8080/"
        }
      },
      "outputs": [
        {
          "output_type": "stream",
          "name": "stdout",
          "text": [
            "Name      object\n",
            "Age        int64\n",
            "Career    object\n",
            "dtype: object\n"
          ]
        }
      ],
      "source": [
        "column_type = df.dtypes\n",
        "print(column_type)"
      ]
    },
    {
      "cell_type": "markdown",
      "metadata": {
        "id": "67Yv1vrcPs-5"
      },
      "source": [
        "7. Using bracket notation, reference column `name`"
      ]
    },
    {
      "cell_type": "code",
      "execution_count": 21,
      "metadata": {
        "id": "KvYDyocgPs-6",
        "outputId": "d9b0f219-5abc-41df-bfbc-a34de64f4a8a",
        "colab": {
          "base_uri": "https://localhost:8080/"
        }
      },
      "outputs": [
        {
          "output_type": "execute_result",
          "data": {
            "text/plain": [
              "participant_id\n",
              "1    Caroline\n",
              "2         Ava\n",
              "3      George\n",
              "4       Tyler\n",
              "Name: Name, dtype: object"
            ]
          },
          "metadata": {},
          "execution_count": 21
        }
      ],
      "source": [
        "df['Name']"
      ]
    },
    {
      "cell_type": "markdown",
      "metadata": {
        "id": "m3cxo1_DPs-6"
      },
      "source": [
        "8. Using dot notation, reference column `name`"
      ]
    },
    {
      "cell_type": "code",
      "execution_count": 22,
      "metadata": {
        "id": "1GWDNZpDPs-6",
        "outputId": "09e1b9ae-d911-4b29-d102-77ebe8e1a904",
        "colab": {
          "base_uri": "https://localhost:8080/"
        }
      },
      "outputs": [
        {
          "output_type": "execute_result",
          "data": {
            "text/plain": [
              "participant_id\n",
              "1    Caroline\n",
              "2         Ava\n",
              "3      George\n",
              "4       Tyler\n",
              "Name: Name, dtype: object"
            ]
          },
          "metadata": {},
          "execution_count": 22
        }
      ],
      "source": [
        "df.Name"
      ]
    },
    {
      "cell_type": "markdown",
      "metadata": {
        "id": "QXcydAo-Ps-6"
      },
      "source": [
        "8. Reference column `name` and have it returned in a dataframe."
      ]
    },
    {
      "cell_type": "code",
      "execution_count": 25,
      "metadata": {
        "id": "Es6jw5eKPs-6",
        "outputId": "6d4c6af5-5153-4b60-8537-bddcb2ea7313",
        "colab": {
          "base_uri": "https://localhost:8080/"
        }
      },
      "outputs": [
        {
          "output_type": "stream",
          "name": "stdout",
          "text": [
            "  Column Name\n",
            "0        Name\n",
            "1         Age\n",
            "2      Career\n"
          ]
        }
      ],
      "source": [
        "name_df= pd.DataFrame({'Column Name': df.columns})\n",
        "print(name_df)"
      ]
    },
    {
      "cell_type": "markdown",
      "metadata": {
        "id": "FGvwXkmsPs-6"
      },
      "source": [
        "9. Show the 3rd element in column `career`."
      ]
    },
    {
      "cell_type": "code",
      "execution_count": 28,
      "metadata": {
        "id": "9DFRMXJ-Ps-6",
        "outputId": "2db07c37-0a19-4208-e256-2a140ecfdba6",
        "colab": {
          "base_uri": "https://localhost:8080/"
        }
      },
      "outputs": [
        {
          "output_type": "stream",
          "name": "stdout",
          "text": [
            "Author\n"
          ]
        }
      ],
      "source": [
        "third_element= df['Career'].iloc[2]\n",
        "print(third_element)"
      ]
    },
    {
      "cell_type": "markdown",
      "source": [
        "10.  Load the `iris` dataset that we used in class.  Use `iris` as the name of your data frame."
      ],
      "metadata": {
        "id": "rRH599bKtjbE"
      }
    },
    {
      "cell_type": "code",
      "source": [
        "from sklearn.datasets import load_iris\n",
        "\n",
        "iris_data= load_iris()\n",
        "iris = pd.DataFrame(data= iris_data.data, columns = iris_data.feature_names)\n",
        "print (iris.head())"
      ],
      "metadata": {
        "id": "zzf2X8hptu02",
        "outputId": "46f80d4b-34e7-445a-db7f-9f2c3d9b635c",
        "colab": {
          "base_uri": "https://localhost:8080/"
        }
      },
      "execution_count": 32,
      "outputs": [
        {
          "output_type": "stream",
          "name": "stdout",
          "text": [
            "   sepal length (cm)  sepal width (cm)  petal length (cm)  petal width (cm)\n",
            "0                5.1               3.5                1.4               0.2\n",
            "1                4.9               3.0                1.4               0.2\n",
            "2                4.7               3.2                1.3               0.2\n",
            "3                4.6               3.1                1.5               0.2\n",
            "4                5.0               3.6                1.4               0.2\n"
          ]
        }
      ]
    },
    {
      "cell_type": "markdown",
      "source": [
        "11.  What is the correlation between the variables `sepal_length` and `sepal_width` for all the irises?"
      ],
      "metadata": {
        "id": "AKz6-jVWtvSB"
      }
    },
    {
      "cell_type": "code",
      "source": [
        "correlation = iris['sepal length (cm)'].corr(iris['sepal width (cm)'])\n",
        "print(\"Correlation between the two variables: \", correlation)"
      ],
      "metadata": {
        "id": "hee42cCiuUaQ",
        "outputId": "dd9c05db-de86-45dd-d5bc-6fda8220fee7",
        "colab": {
          "base_uri": "https://localhost:8080/"
        }
      },
      "execution_count": 36,
      "outputs": [
        {
          "output_type": "stream",
          "name": "stdout",
          "text": [
            "Correlation between the two variables:  -0.11756978413300208\n"
          ]
        }
      ]
    },
    {
      "cell_type": "markdown",
      "source": [
        "12.  Which of the three species has the highest correlation between `sepal_length` and `sepal_width`?  Show any calculations you use to support your answer."
      ],
      "metadata": {
        "id": "0FftiYs-uU0S"
      }
    },
    {
      "cell_type": "code",
      "source": [
        "iris['species']= iris_data.target_names[iris_data.target]\n",
        "\n",
        "iris['sepal length (cm)'] = pd.to_numeric(iris['sepal length (cm)'])\n",
        "iris['sepal width (cm)'] = pd.to_numeric(iris['sepal width (cm)'])\n",
        "correlation = iris.groupby('species')['sepal length (cm)', 'sepal width (cm)'].corr().iloc[0::2,-1]\n",
        "highest_correlation = correlation.groupby('species').max().idxmax()\n",
        "\n",
        "print(\"Species with the highest correlation: \", highest_correlation\n",
        "      )"
      ],
      "metadata": {
        "id": "TFGICsBQulQ-",
        "outputId": "19f053f6-40d1-48a9-d804-769c6f8e6c8f",
        "colab": {
          "base_uri": "https://localhost:8080/"
        }
      },
      "execution_count": 45,
      "outputs": [
        {
          "output_type": "stream",
          "name": "stdout",
          "text": [
            "Species with the highest correlation:  setosa\n"
          ]
        },
        {
          "output_type": "stream",
          "name": "stderr",
          "text": [
            "<ipython-input-45-8833a5fb57b1>:5: FutureWarning: Indexing with multiple keys (implicitly converted to a tuple of keys) will be deprecated, use a list instead.\n",
            "  correlation = iris.groupby('species')['sepal length (cm)', 'sepal width (cm)'].corr().iloc[0::2,-1]\n"
          ]
        }
      ]
    },
    {
      "cell_type": "markdown",
      "source": [
        "13.  Among the four variables, the two that are most negatively correlated (overall) are `sepal_width` and `petal_length`.  (How do we know this?)  Determine the same thing but for each species separately:  for each species, which two variables have the most negative (or the least positive) correlation?  Again, include calculations to support your answer."
      ],
      "metadata": {
        "id": "ZEwy0920u1NY"
      }
    },
    {
      "cell_type": "code",
      "source": [
        "overall_correlation=iris.corr()\n",
        "correlation_by_species= iris.groupby('species').corr()\n",
        "negative_corr_by_species= (\n",
        "    correlation_by_species.unstack()\n",
        "    .sort_values(by='species')\n",
        "    .drop_duplicates()\n",
        "    .groupby('species')\n",
        "    .head(2)\n",
        "\n",
        "  )\n",
        "print(negative_corr_by_species)"
      ],
      "metadata": {
        "id": "bcqtPTtHvjLI",
        "outputId": "36bd2699-752c-4a3f-b893-a0563459a37a",
        "colab": {
          "base_uri": "https://localhost:8080/"
        }
      },
      "execution_count": 49,
      "outputs": [
        {
          "output_type": "stream",
          "name": "stdout",
          "text": [
            "           sepal length (cm)                                     \\\n",
            "           sepal length (cm) sepal width (cm) petal length (cm)   \n",
            "species                                                           \n",
            "setosa                   1.0         0.742547          0.267176   \n",
            "versicolor               1.0         0.525911          0.754049   \n",
            "virginica                1.0         0.457228          0.864225   \n",
            "\n",
            "                             sepal width (cm)                   \\\n",
            "           petal width (cm) sepal length (cm) sepal width (cm)   \n",
            "species                                                          \n",
            "setosa             0.278098          0.742547              1.0   \n",
            "versicolor         0.546461          0.525911              1.0   \n",
            "virginica          0.281108          0.457228              1.0   \n",
            "\n",
            "                                              petal length (cm)  \\\n",
            "           petal length (cm) petal width (cm) sepal length (cm)   \n",
            "species                                                           \n",
            "setosa              0.177700         0.232752          0.267176   \n",
            "versicolor          0.560522         0.663999          0.754049   \n",
            "virginica           0.401045         0.537728          0.864225   \n",
            "\n",
            "                                                                \\\n",
            "           sepal width (cm) petal length (cm) petal width (cm)   \n",
            "species                                                          \n",
            "setosa             0.177700               1.0         0.331630   \n",
            "versicolor         0.560522               1.0         0.786668   \n",
            "virginica          0.401045               1.0         0.322108   \n",
            "\n",
            "            petal width (cm)                                     \\\n",
            "           sepal length (cm) sepal width (cm) petal length (cm)   \n",
            "species                                                           \n",
            "setosa              0.278098         0.232752          0.331630   \n",
            "versicolor          0.546461         0.663999          0.786668   \n",
            "virginica           0.281108         0.537728          0.322108   \n",
            "\n",
            "                             \n",
            "           petal width (cm)  \n",
            "species                      \n",
            "setosa                  1.0  \n",
            "versicolor              1.0  \n",
            "virginica               1.0  \n"
          ]
        },
        {
          "output_type": "stream",
          "name": "stderr",
          "text": [
            "<ipython-input-49-bbcaf7b660ac>:1: FutureWarning: The default value of numeric_only in DataFrame.corr is deprecated. In a future version, it will default to False. Select only valid columns or specify the value of numeric_only to silence this warning.\n",
            "  overall_correlation=iris.corr()\n"
          ]
        }
      ]
    },
    {
      "cell_type": "markdown",
      "source": [
        "14.  Once again, the variables `sepal_width` and `petal_length` are negatively correlated.  But for each individual species, these two variables are positively correlated.  How is this possible?  Explain this phenomenon.  Use a data visualization if it helps.\n"
      ],
      "metadata": {
        "id": "cK_OhSaRvxhE"
      }
    },
    {
      "cell_type": "markdown",
      "source": [
        "This phenomenon occurs when trends in isolated variables are different than the trend between the entire variable. It is called Simpson's paradox. The scatterplot below helps to explain how each variable has a positive correlation, however they collectively form a negative correlation."
      ],
      "metadata": {
        "id": "aJucL0fkNgaF"
      }
    },
    {
      "cell_type": "code",
      "source": [
        "import seaborn as sns\n",
        "import matplotlib.pyplot as plt\n",
        "import seaborn as sns\n",
        "\n",
        "sns.scatterplot(data=iris, x='sepal width (cm)', y='petal length (cm)', hue='species')\n",
        "plt.title(\"Relationship between Sepal Width and Petal Length by Species\")\n",
        "plt.show()"
      ],
      "metadata": {
        "id": "H4_QQDWHwJ3t",
        "outputId": "4dfd9a0c-f98a-4aab-ff1e-645d78c198f8",
        "colab": {
          "base_uri": "https://localhost:8080/",
          "height": 472
        }
      },
      "execution_count": 53,
      "outputs": [
        {
          "output_type": "display_data",
          "data": {
            "text/plain": [
              "<Figure size 640x480 with 1 Axes>"
            ],
            "image/png": "[encoded data removed]"
          },
          "metadata": {}
        }
      ]
    }
  ],
  "metadata": {
    "kernelspec": {
      "display_name": "Python 3.8.9 64-bit",
      "language": "python",
      "name": "python3"
    },
    "language_info": {
      "codemirror_mode": {
        "name": "ipython",
        "version": 3
      },
      "file_extension": ".py",
      "mimetype": "text/x-python",
      "name": "python",
      "nbconvert_exporter": "python",
      "pygments_lexer": "ipython3",
      "version": "3.8.9"
    },
    "orig_nbformat": 4,
    "vscode": {
      "interpreter": {
        "hash": "31f2aee4e71d21fbe5cf8b01ff0e069b9275f58929596ceb00d14d90e3e16cd6"
      }
    },
    "colab": {
      "provenance": [],
      "include_colab_link": true
    }
  },
  "nbformat": 4,
  "nbformat_minor": 0
}