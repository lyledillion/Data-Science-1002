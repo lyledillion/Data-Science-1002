{
  "nbformat": 4,
  "nbformat_minor": 0,
  "metadata": {
    "colab": {
      "provenance": [],
      "include_colab_link": true
    },
    "kernelspec": {
      "name": "python3",
      "display_name": "Python 3"
    },
    "language_info": {
      "name": "python"
    }
  },
  "cells": [
    {
      "cell_type": "markdown",
      "metadata": {
        "id": "view-in-github",
        "colab_type": "text"
      },
      "source": [
        "<a href=\"https://colab.research.google.com/github/lyledillion/Data-Science-1002/blob/main/Copy_of_13_Classes.ipynb\" target=\"_parent\"><img src=\"https://colab.research.google.com/assets/colab-badge.svg\" alt=\"Open In Colab\"/></a>"
      ]
    },
    {
      "cell_type": "markdown",
      "source": [
        "## Assignment:  Classes\n",
        "### Due Sunday 28 April at\n",
        "\n",
        "Lyle Dillion and Hope Kistulinec"
      ],
      "metadata": {
        "id": "5Vy93BSp9Tum"
      }
    },
    {
      "cell_type": "markdown",
      "source": [
        "1.  Define a class called `Person` that has attributes `lastName`, `firstName`, `mother`, and `father`.  Both `mother` and `father` should have default value `unknown`.\n",
        "\n",
        "  Include a `__str__()` function that returns a string of the form '`firstName` `lastName`'.\n",
        "\n",
        "  Include a `__repr__()` function that returns a string that can be evaluated to recreate the `Person` object.\n",
        "\n"
      ],
      "metadata": {
        "id": "vcj5XQAI9Wsb"
      }
    },
    {
      "cell_type": "code",
      "source": [
        "class Person:\n",
        "  def __init__(self, lastName, firstName, mother = \"unknown\", father= \"unknown\"):\n",
        "    self.lastName = lastName\n",
        "    self.firstName = firstName\n",
        "    self.mother = mother\n",
        "    self.father = father\n",
        "  def __str__(self):\n",
        "    return f'{self.firstName} {self.lastName}'\n",
        "\n",
        "  def __repr__(self):\n",
        "    return f\"Person('{self.lastName}', '{self.firstName}', mother = '{self.mother}', father = '{self.father}')\""
      ],
      "metadata": {
        "id": "mjHDwHv3EpVe"
      },
      "execution_count": null,
      "outputs": []
    },
    {
      "cell_type": "code",
      "source": [
        "print(Person)"
      ],
      "metadata": {
        "id": "dvJqca78Smb3",
        "outputId": "3ff16d10-018c-459e-9907-7f8188ce80e7",
        "colab": {
          "base_uri": "https://localhost:8080/"
        }
      },
      "execution_count": null,
      "outputs": [
        {
          "output_type": "stream",
          "name": "stdout",
          "text": [
            "<class '__main__.Person'>\n"
          ]
        }
      ]
    },
    {
      "cell_type": "markdown",
      "source": [
        "Create a person (i.e., a `Person` object) called `p` with unknown parents.  (You will need to give your person a first and last name.) Check the type of `p`.  Include all inputs and outputs."
      ],
      "metadata": {
        "id": "-ppMsEIVHINl"
      }
    },
    {
      "cell_type": "code",
      "source": [
        "p = Person(\"Adams\", \"Sam\")\n",
        "print(type(p))"
      ],
      "metadata": {
        "id": "5bwid_6gHIBH",
        "colab": {
          "base_uri": "https://localhost:8080/"
        },
        "outputId": "339533ee-f781-442e-fa82-bd00f46e0378"
      },
      "execution_count": null,
      "outputs": [
        {
          "output_type": "stream",
          "name": "stdout",
          "text": [
            "<class '__main__.Person'>\n"
          ]
        }
      ]
    },
    {
      "cell_type": "markdown",
      "source": [
        "Verify that your `__str__` and `__repr__` functions are doing what they are supposed to do.  Include all inputs and outputs."
      ],
      "metadata": {
        "id": "Z6zlUC3xRtal"
      }
    },
    {
      "cell_type": "code",
      "source": [
        "print(str(p))\n",
        "print(repr(p))"
      ],
      "metadata": {
        "id": "jZO0dBQYRs-K",
        "colab": {
          "base_uri": "https://localhost:8080/"
        },
        "outputId": "cab084be-356d-436c-a17c-22582f0f6b01"
      },
      "execution_count": null,
      "outputs": [
        {
          "output_type": "stream",
          "name": "stdout",
          "text": [
            "Sam Adams\n",
            "Person('Adams', 'Sam', mother = 'unknown', father = 'unknown')\n"
          ]
        }
      ]
    },
    {
      "cell_type": "markdown",
      "source": [
        "Suppose the mother of `p` has been found and is named Taylor Swift.  Create a new person named Taylor Swift, and make her the mother of `p`:\n",
        "\n",
        "```\n",
        "> p.mother\n",
        "'Taylor Swift'\n",
        "```"
      ],
      "metadata": {
        "id": "1mOAThQiHzoQ"
      }
    },
    {
      "cell_type": "code",
      "source": [
        "taylor_swift = Person(\"Swift\" , \"Taylor\")\n",
        "p.mother = taylor_swift\n",
        "print(p.mother)"
      ],
      "metadata": {
        "id": "NYbDOorpHymz",
        "colab": {
          "base_uri": "https://localhost:8080/"
        },
        "outputId": "954848d7-132d-4822-e784-0366c30c0607"
      },
      "execution_count": null,
      "outputs": [
        {
          "output_type": "stream",
          "name": "stdout",
          "text": [
            "Taylor Swift\n"
          ]
        }
      ]
    },
    {
      "cell_type": "markdown",
      "source": [
        "2.  Add some methods to your class.  Start by copying the `class` definition you already wrote.  Then, inside the `class` definition:\n",
        "\n",
        "  (a) Write a method called `unknownParent()` which returns `True` if any parent is 'unknown' and `False` otherwise.\n",
        "\n",
        "  (b) Write a method called `maternalGrandmother()` which returns the mother's mother.  If the mother is unknown, it should return 'unknown'.\n",
        "\n"
      ],
      "metadata": {
        "id": "1g1pcrmFHzGh"
      }
    },
    {
      "cell_type": "code",
      "source": [
        "class Person:\n",
        "  def __init__(self, lastName, firstName, mother = \"unknown\", father= \"unknown\"):\n",
        "    self.lastName = lastName\n",
        "    self.firstName = firstName\n",
        "    self.mother = mother\n",
        "    self.father = father\n",
        "\n",
        "  def unknownParent(self):\n",
        "    return self.mother == 'unknown' or self.father == 'unknown'\n",
        "\n",
        "  def maternalGrandmother(self):\n",
        "        if self.mother is None:\n",
        "            return 'unknown'\n",
        "        elif self.mother.mother is None:\n",
        "            return 'unknown'\n",
        "        else:\n",
        "            return self.mother.mother"
      ],
      "metadata": {
        "id": "7mIxJGwwKTpv"
      },
      "execution_count": null,
      "outputs": []
    },
    {
      "cell_type": "code",
      "source": [
        "Person"
      ],
      "metadata": {
        "id": "jKWJOAEOcP7t"
      },
      "execution_count": null,
      "outputs": []
    },
    {
      "cell_type": "markdown",
      "source": [
        "Create enough `Person` objects to test whether your methods are working properly.  Show all your inputs and outputs.  It is up to you to demonstrate that you have thoroughly tested the code.  You may use additional code and/or text chunks if it helps."
      ],
      "metadata": {
        "id": "l9-4gxd8FxAQ"
      }
    },
    {
      "cell_type": "code",
      "source": [
        "hope = Person(\"Dillon\", \"Hope\")\n",
        "walker = Person(\"Dillon\", \"Walker\")\n",
        "Lyle = Person(\"Daddy\", \"Lyle\", mother=\"unknown\", father=\"unknown\")\n",
        "ryan = Person(\"Daddy\", \"Ryan\", mother=Lyle, father=walker)\n",
        "morgan = Person(\"Bro\", \"Morgan\", mother=Lyle, father=hope)\n",
        "baddie = Person(\"Simmons\", \"Baddie\", mother=hope, father =Lyle)\n",
        "caroline = Person(\"Morch\", \"Caroline\", mother=baddie, father=morgan)\n",
        "\n",
        "\n",
        "print(hope.unknownParent())\n",
        "print(Lyle.unknownParent())\n",
        "print(morgan.maternalGrandmother())\n",
        "print(baddie.unknownParent())\n"
      ],
      "metadata": {
        "colab": {
          "base_uri": "https://localhost:8080/"
        },
        "id": "bG-59EZ-gfI5",
        "outputId": "26f15241-a55c-4f32-a0fd-a8141dac56d4"
      },
      "execution_count": 21,
      "outputs": [
        {
          "output_type": "stream",
          "name": "stdout",
          "text": [
            "True\n",
            "True\n",
            "unknown\n",
            "False\n"
          ]
        }
      ]
    }
  ]
}