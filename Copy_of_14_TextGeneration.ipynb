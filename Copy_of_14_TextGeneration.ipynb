{
  "cells": [
    {
      "cell_type": "markdown",
      "metadata": {
        "id": "view-in-github",
        "colab_type": "text"
      },
      "source": [
        "<a href=\"https://colab.research.google.com/github/lyledillion/Data-Science-1002/blob/main/Copy_of_14_TextGeneration.ipynb\" target=\"_parent\"><img src=\"https://colab.research.google.com/assets/colab-badge.svg\" alt=\"Open In Colab\"/></a>"
      ]
    },
    {
      "cell_type": "markdown",
      "metadata": {
        "id": "tWbrZqoW5281"
      },
      "source": [
        "## Final homework assignment:  generating text from a corpus\n",
        "\n",
        "Due Friday 3 May at 5 pm\n",
        "\n",
        "Lyle Dillion and Hope Kistulinec"
      ]
    },
    {
      "cell_type": "markdown",
      "metadata": {
        "id": "7tMMjgkjF7gk"
      },
      "source": [
        "We begin by loading all of Shakespeare's plays into a text file, and separating them into individual words.  This is made easy by the fact that someone already made a giant text file of these plays for us, and put it online.\n",
        "\n",
        "[Note that by changing the url in the following code chunk, you can load any text file that lives online in this way . . . see below.]\n",
        "\n",
        "Run the following code.  It should output a list of ten words, starting with 'From' and ending with 'rose'."
      ]
    },
    {
      "cell_type": "code",
      "execution_count": null,
      "metadata": {
        "colab": {
          "base_uri": "https://localhost:8080/"
        },
        "id": "PoW71ljm2GS-",
        "outputId": "ecbef433-19b5-4949-aa30-8580cef219f5"
      },
      "outputs": [
        {
          "output_type": "execute_result",
          "data": {
            "text/plain": [
              "['From',\n",
              " 'fairest',\n",
              " 'creatures',\n",
              " 'we',\n",
              " 'desire',\n",
              " 'increase,',\n",
              " 'That',\n",
              " 'thereby',\n",
              " \"beauty's\",\n",
              " 'rose']"
            ]
          },
          "metadata": {},
          "execution_count": 1
        }
      ],
      "source": [
        "from urllib.request import urlopen            #package for reading info from the web\n",
        "url='https://ocw.mit.edu/ans7870/6/6.006/s08/lecturenotes/files/t8.shakespeare.txt'   #web address\n",
        "text = urlopen(url).read().decode('utf-8')    #open web address, read file, convert to text\n",
        "shakespeare_words=text.split()[1651:]         #split text into words (not including preamble)\n",
        "shakespeare_words[:10]                        #display the first 10 words"
      ]
    },
    {
      "cell_type": "markdown",
      "metadata": {
        "id": "AIeohQaAHRF8"
      },
      "source": [
        "## 1. `nextwords` practice\n",
        "\n",
        "Create a practice function called `createNextwordsPractice` which takes a list of words called `wordlist` and returns a dictionary called `nextwordsPractice`. The keys of `nextwordsPractice` should be all the words in `wordlist`, and the value for any given key should be a list of all the words that follow the key word somewhere in the original `wordlist`.\n",
        "\n"
      ]
    },
    {
      "cell_type": "code",
      "execution_count": null,
      "metadata": {
        "id": "2XZa2K3C3InW"
      },
      "outputs": [],
      "source": [
        "def createNextwordsPractice(wordlist):\n",
        "  nextwordsPractice = {}\n",
        "  for i in range(len(wordlist)-1):\n",
        "    current_word = wordlist[i]\n",
        "    next_word = wordlist[i + 1]\n",
        "\n",
        "    if current_word in nextwordsPractice:\n",
        "      nextwordsPractice[current_word].append(next_word)\n",
        "    else:\n",
        "      nextwordsPractice[current_word] = [next_word]\n",
        "\n",
        "  return nextwordsPractice"
      ]
    },
    {
      "cell_type": "markdown",
      "metadata": {
        "id": "FH3N2raWjtfd"
      },
      "source": [
        "Run the following code:"
      ]
    },
    {
      "cell_type": "code",
      "execution_count": null,
      "metadata": {
        "colab": {
          "base_uri": "https://localhost:8080/"
        },
        "id": "P3M8beYAjiie",
        "outputId": "a06f3d39-299f-4ee7-f00f-f916c3de70d9"
      },
      "outputs": [
        {
          "output_type": "execute_result",
          "data": {
            "text/plain": [
              "['fairest',\n",
              " 'his',\n",
              " 'sullen',\n",
              " 'limits',\n",
              " 'hands',\n",
              " 'whence',\n",
              " 'where',\n",
              " 'me',\n",
              " 'this',\n",
              " 'thy',\n",
              " 'hence',\n",
              " 'thee,',\n",
              " 'you',\n",
              " 'heaven',\n",
              " 'her',\n",
              " 'simple',\n",
              " 'whence',\n",
              " 'below',\n",
              " 'lowest',\n",
              " 'courtly',\n",
              " 'son',\n",
              " 'the',\n",
              " 'the',\n",
              " 'Sicyon,',\n",
              " 'Alexandria',\n",
              " 'Silvius,',\n",
              " 'mine',\n",
              " 'the',\n",
              " 'firm',\n",
              " 'Egypt',\n",
              " 'Antony',\n",
              " 'thine',\n",
              " 'that',\n",
              " 'my',\n",
              " 'me',\n",
              " 'henceforth',\n",
              " 'tyrant',\n",
              " 'seventeen',\n",
              " 'miserable',\n",
              " 'whom',\n",
              " 'my',\n",
              " 'whence,',\n",
              " 'me',\n",
              " 'me',\n",
              " 'slaves',\n",
              " 'every',\n",
              " 'rascals',\n",
              " 'whom',\n",
              " 'where',\n",
              " \"th'\",\n",
              " 'Rome',\n",
              " 'off',\n",
              " 'these',\n",
              " 'twelve',\n",
              " \"th'\",\n",
              " 'whence?',\n",
              " 'Rome.',\n",
              " 'thy',\n",
              " 'Gallia',\n",
              " 'fairies',\n",
              " 'off',\n",
              " \"th'\",\n",
              " 'most',\n",
              " 'thy',\n",
              " 'youth',\n",
              " 'every',\n",
              " 'whose',\n",
              " 'so',\n",
              " 'one',\n",
              " 'this',\n",
              " 'the',\n",
              " 'east',\n",
              " 'action',\n",
              " 'my',\n",
              " 'this',\n",
              " 'Leonati',\n",
              " 'her',\n",
              " 'chance',\n",
              " 'south',\n",
              " 'our',\n",
              " 'whence',\n",
              " 'the',\n",
              " 'top',\n",
              " 'this',\n",
              " 'our',\n",
              " 'that',\n",
              " 'me,',\n",
              " 'fashion',\n",
              " 'the',\n",
              " 'another',\n",
              " 'Hamlet?',\n",
              " 'whence',\n",
              " 'whom',\n",
              " \"Rumour's\",\n",
              " 'whence',\n",
              " 'the',\n",
              " 'a',\n",
              " 'a',\n",
              " 'enemies',\n",
              " 'every',\n",
              " 'this',\n",
              " 'the',\n",
              " 'open',\n",
              " 'whom',\n",
              " \"glist'ring\",\n",
              " 'our',\n",
              " 'him,',\n",
              " 'his',\n",
              " 'him,',\n",
              " 'camp',\n",
              " 'this',\n",
              " 'off',\n",
              " 'helmet',\n",
              " 'him',\n",
              " 'off',\n",
              " 'Lionel',\n",
              " 'John',\n",
              " 'famous',\n",
              " 'envious',\n",
              " 'whence',\n",
              " 'thence',\n",
              " 'bought',\n",
              " 'thee,',\n",
              " 'top',\n",
              " 'thence',\n",
              " 'meaning',\n",
              " \"treason's\",\n",
              " 'such',\n",
              " 'thee',\n",
              " 'Ireland',\n",
              " \"Clifford's\",\n",
              " 'your',\n",
              " 'London',\n",
              " 'whence',\n",
              " 'off',\n",
              " 'whence',\n",
              " 'Scotland',\n",
              " 'such',\n",
              " 'worthy',\n",
              " 'these',\n",
              " 'giving',\n",
              " 'France?',\n",
              " 'Ravenspurgh',\n",
              " 'shelves',\n",
              " 'those',\n",
              " 'his',\n",
              " 'sincere',\n",
              " 'every',\n",
              " 'foreign',\n",
              " 'princes',\n",
              " 'these',\n",
              " 'any',\n",
              " 'Ampthill,',\n",
              " 'your',\n",
              " 'hence',\n",
              " 'her',\n",
              " 'henceforth',\n",
              " 'France',\n",
              " 'whom',\n",
              " 'that',\n",
              " 'first',\n",
              " 'north',\n",
              " 'all',\n",
              " 'a',\n",
              " 'his',\n",
              " 'France',\n",
              " 'forth',\n",
              " 'whose',\n",
              " 'forth',\n",
              " 'this',\n",
              " 'out',\n",
              " 'forth',\n",
              " 'that',\n",
              " 'the',\n",
              " 'which',\n",
              " 'whom',\n",
              " 'what',\n",
              " 'the',\n",
              " 'hence',\n",
              " 'this',\n",
              " 'Goneril',\n",
              " 'those',\n",
              " 'seasons',\n",
              " 'that',\n",
              " 'her',\n",
              " 'the',\n",
              " 'a',\n",
              " 'tawny',\n",
              " \"reason's\",\n",
              " 'my',\n",
              " 'which',\n",
              " 'my',\n",
              " 'the',\n",
              " \"women's\",\n",
              " 'whence',\n",
              " \"women's\",\n",
              " 'morn',\n",
              " 'what',\n",
              " 'Fife,',\n",
              " 'hence',\n",
              " 'this',\n",
              " 'thence',\n",
              " 'whom',\n",
              " 'the',\n",
              " 'this',\n",
              " 'whence',\n",
              " 'what',\n",
              " 'over-credulous',\n",
              " 'which',\n",
              " 'too',\n",
              " 'whom',\n",
              " 'his',\n",
              " 'fasting',\n",
              " 'thee;',\n",
              " \"flow'ry\",\n",
              " 'thine',\n",
              " 'such',\n",
              " 'our',\n",
              " 'such',\n",
              " 'the',\n",
              " 'the',\n",
              " 'whom',\n",
              " 'Tripolis,',\n",
              " 'Lisbon,',\n",
              " 'out',\n",
              " 'any',\n",
              " 'brassy',\n",
              " 'stubborn',\n",
              " 'both,',\n",
              " 'the',\n",
              " 'the',\n",
              " 'time',\n",
              " 'Athens',\n",
              " \"lovers'\",\n",
              " 'Perigouna,',\n",
              " 'our',\n",
              " 'sleeping',\n",
              " \"monster's\",\n",
              " 'these',\n",
              " 'off',\n",
              " 'the',\n",
              " 'my',\n",
              " 'Claudio,',\n",
              " 'men',\n",
              " 'year',\n",
              " 'her',\n",
              " 'him',\n",
              " 'one',\n",
              " 'jealousy!',\n",
              " 'whence',\n",
              " 'the',\n",
              " 'any',\n",
              " 'the',\n",
              " 'this',\n",
              " 'giving',\n",
              " 'where',\n",
              " 'forth',\n",
              " 'some',\n",
              " 'Ravenspurgh',\n",
              " 'the',\n",
              " 'forth',\n",
              " 'off',\n",
              " 'my',\n",
              " \"Richard's\",\n",
              " 'out',\n",
              " 'sun',\n",
              " \"plume-pluck'd\",\n",
              " 'which',\n",
              " 'whence',\n",
              " 'your',\n",
              " 'whence',\n",
              " 'cold',\n",
              " 'wayward',\n",
              " 'that',\n",
              " 'this',\n",
              " 'my',\n",
              " 'the',\n",
              " 'all',\n",
              " 'forth',\n",
              " 'which',\n",
              " 'all',\n",
              " 'Tamworth',\n",
              " 'the',\n",
              " 'ancient',\n",
              " 'forth',\n",
              " \"Love's\",\n",
              " 'forth',\n",
              " 'off',\n",
              " 'this',\n",
              " 'all',\n",
              " 'Florence,',\n",
              " 'mine',\n",
              " 'the',\n",
              " 'what',\n",
              " 'me,',\n",
              " 'bogs,',\n",
              " 'me',\n",
              " 'Milan',\n",
              " 'toe',\n",
              " 'eaves',\n",
              " 'strange',\n",
              " 'whence',\n",
              " 'Isidore:',\n",
              " 'our',\n",
              " 'forth',\n",
              " 'change',\n",
              " \"gen'ral\",\n",
              " 'high',\n",
              " 'Alcibiades',\n",
              " 'niggard',\n",
              " 'weary',\n",
              " 'where',\n",
              " 'whence',\n",
              " 'this',\n",
              " 'these',\n",
              " 'thousand',\n",
              " 'heaven!',\n",
              " 'isles',\n",
              " 'his',\n",
              " 'Troy.',\n",
              " \"Cupid's\",\n",
              " 'false',\n",
              " 'certain',\n",
              " 'Troy',\n",
              " 'heart',\n",
              " 'whence,',\n",
              " 'my',\n",
              " 'the',\n",
              " 'the',\n",
              " 'my',\n",
              " 'a',\n",
              " 'hence,',\n",
              " 'Milan.',\n",
              " 'whom?',\n",
              " 'my',\n",
              " 'heartiness,',\n",
              " 'east,',\n",
              " 'course',\n",
              " 'him',\n",
              " 'our',\n",
              " 'all',\n",
              " 'your',\n",
              " 'those',\n",
              " 'the',\n",
              " \"Dis's\",\n",
              " 'the',\n",
              " 'my',\n",
              " 'thy',\n",
              " 'off']"
            ]
          },
          "metadata": {},
          "execution_count": 3
        }
      ],
      "source": [
        "practice = createNextwordsPractice(shakespeare_words)\n",
        "practice['From']"
      ]
    },
    {
      "cell_type": "code",
      "execution_count": null,
      "metadata": {
        "colab": {
          "base_uri": "https://localhost:8080/"
        },
        "id": "W5FCOXElICLb",
        "outputId": "83948b4e-6a63-4ff2-c82d-02de1ec46f34"
      },
      "outputs": [
        {
          "output_type": "execute_result",
          "data": {
            "text/plain": [
              "['might',\n",
              " 'looks',\n",
              " 'is',\n",
              " 'of',\n",
              " 'Of',\n",
              " 'may',\n",
              " 'will',\n",
              " 'of',\n",
              " 'From',\n",
              " 'and',\n",
              " 'of',\n",
              " 'both',\n",
              " 'with',\n",
              " 'from',\n",
              " 'with',\n",
              " 'with',\n",
              " 'side.',\n",
              " 'red,',\n",
              " 'too.',\n",
              " 'in',\n",
              " 'a',\n",
              " 'a',\n",
              " 'I',\n",
              " 'against',\n",
              " 'that',\n",
              " 'and',\n",
              " 'from',\n",
              " 'again,',\n",
              " 'Lest',\n",
              " 'against',\n",
              " 'Than',\n",
              " \"distill'd\",\n",
              " 'on',\n",
              " 'up',\n",
              " 'in',\n",
              " 'wither.',\n",
              " 'and',\n",
              " 'By',\n",
              " 'again?',\n",
              " 'he']"
            ]
          },
          "metadata": {},
          "execution_count": 4
        }
      ],
      "source": [
        "practice['rose']"
      ]
    },
    {
      "cell_type": "code",
      "execution_count": null,
      "metadata": {
        "colab": {
          "base_uri": "https://localhost:8080/"
        },
        "id": "Vr57wNx5BO4K",
        "outputId": "f3467607-4777-4c31-90a0-fceaba7fcf29"
      },
      "outputs": [
        {
          "output_type": "execute_result",
          "data": {
            "text/plain": [
              "['might',\n",
              " 'looks',\n",
              " 'is',\n",
              " 'of',\n",
              " 'Of',\n",
              " 'may',\n",
              " 'will',\n",
              " 'of',\n",
              " 'From',\n",
              " 'and',\n",
              " 'of',\n",
              " 'both',\n",
              " 'with',\n",
              " 'from',\n",
              " 'with',\n",
              " 'with',\n",
              " 'side.',\n",
              " 'red,',\n",
              " 'too.',\n",
              " 'in',\n",
              " 'a',\n",
              " 'a',\n",
              " 'I',\n",
              " 'against',\n",
              " 'that',\n",
              " 'and',\n",
              " 'from',\n",
              " 'again,',\n",
              " 'Lest',\n",
              " 'against',\n",
              " 'Than',\n",
              " \"distill'd\",\n",
              " 'on',\n",
              " 'up',\n",
              " 'in',\n",
              " 'wither.',\n",
              " 'and',\n",
              " 'By',\n",
              " 'again?',\n",
              " 'he']"
            ]
          },
          "metadata": {},
          "execution_count": 17
        }
      ],
      "source": [
        "practice['rose']"
      ]
    },
    {
      "cell_type": "markdown",
      "metadata": {
        "id": "t221x1X3iRVA"
      },
      "source": [
        "## 2. `nextwords` for real:  new sentences.\n",
        "\n",
        "Next, write a new function called `createNextwords` which takes a `wordlist` and returns a dictionary of `nextwords`, but now with a new additional feature.  \n",
        "In addition to the keys from problem 1, add a special key to the dictionary, which will be the symbol '%'.  This key will signify the first word of a sentence. When scanning the wordlist to construct the `nextwords` dictionary, normally you would add `wordlist[i+1]` to the list `nextwords[wordlist[i]]`. However, if `wordlist[i]` ends with a period, then you should instead add `wordlist[i+1]` to the list nextwords['%']. Also add the very first word of `wordlist` to nextwords['%'].\n",
        "\n",
        "\n",
        "You should be able to produce this output:\n",
        "```\n",
        "> shakespeare_nextwords=createNextwords(shakespeare_words)\n",
        "> shakespeare_nextwords['Rose']\n",
        "['at', 'or', 'or', 'and']\n",
        "\n",
        "> shakespeare_nextwords['rose.']\n",
        "[]\n",
        "\n",
        "> len(shakespeare_nextwords['%'])\n",
        "76543\n",
        "```"
      ]
    },
    {
      "cell_type": "code",
      "execution_count": null,
      "metadata": {
        "id": "Aq32k78dtgyd"
      },
      "outputs": [],
      "source": [
        "def createNextwords(wordlist):\n",
        "  nextwords = {'%' : []}\n",
        "  for i in range(len(wordlist)-1):\n",
        "    current_word = wordlist[i]\n",
        "    next_word = wordlist[i + 1]\n",
        "\n",
        "    if current_word.endswith('.'):\n",
        "      if next_word:\n",
        "        nextwords['%'].append(next_word)\n",
        "    else:\n",
        "      if current_word in nextwords:\n",
        "        nextwords[current_word].append(next_word)\n",
        "      else:\n",
        "        nextwords[current_word] = [next_word]\n",
        "  last_word = wordlist[-1]\n",
        "  nextwords['%'].append(last_word)\n",
        "\n",
        "  return nextwords\n"
      ]
    },
    {
      "cell_type": "markdown",
      "metadata": {
        "id": "x7bamoxBlX6Q"
      },
      "source": [
        "Run the following code:"
      ]
    },
    {
      "cell_type": "code",
      "execution_count": null,
      "metadata": {
        "colab": {
          "base_uri": "https://localhost:8080/"
        },
        "id": "xv4ANlzvlZ2e",
        "outputId": "9c126161-753d-4727-9042-885d722d0e43"
      },
      "outputs": [
        {
          "output_type": "stream",
          "name": "stdout",
          "text": [
            "['at', 'or', 'or', 'and']\n",
            "76543\n"
          ]
        }
      ],
      "source": [
        "shakespeare_nextwords = createNextwords(shakespeare_words)\n",
        "\n",
        "print(shakespeare_nextwords['Rose'])\n",
        "print(len(shakespeare_nextwords['%']))\n"
      ]
    },
    {
      "cell_type": "code",
      "execution_count": null,
      "metadata": {
        "colab": {
          "base_uri": "https://localhost:8080/"
        },
        "id": "NsLW7PYYCj1r",
        "outputId": "317cdc3d-7a1d-4869-c29e-bb415868459b"
      },
      "outputs": [
        {
          "output_type": "stream",
          "name": "stdout",
          "text": [
            "40\n"
          ]
        }
      ],
      "source": [
        "print(len(shakespeare_nextwords['rose']))"
      ]
    },
    {
      "cell_type": "code",
      "execution_count": null,
      "metadata": {
        "colab": {
          "base_uri": "https://localhost:8080/"
        },
        "id": "NyjLxUKiIPqG",
        "outputId": "f15c386b-18b7-4d34-ae6d-157d0d91f28e"
      },
      "outputs": [
        {
          "output_type": "stream",
          "name": "stdout",
          "text": [
            "['might', 'looks', 'is', 'of', 'Of', 'may', 'will', 'of', 'From', 'and', 'of', 'both', 'with', 'from', 'with', 'with', 'side.', 'red,', 'too.', 'in', 'a', 'a', 'I', 'against', 'that', 'and', 'from', 'again,', 'Lest', 'against', 'Than', \"distill'd\", 'on', 'up', 'in', 'wither.', 'and', 'By', 'again?', 'he']\n"
          ]
        }
      ],
      "source": [
        "print(shakespeare_nextwords['rose'])\n"
      ]
    },
    {
      "cell_type": "markdown",
      "metadata": {
        "id": "BCIAfYSIX3VC"
      },
      "source": [
        "## 3.  Make your own Shakespeare play\n",
        "\n",
        "Okay, that may be a bit of an exaggeration.  Anyway, next up is text generation.  \n",
        "We'll need the choice function:"
      ]
    },
    {
      "cell_type": "code",
      "execution_count": null,
      "metadata": {
        "id": "rbBHDv55Biae"
      },
      "outputs": [],
      "source": [
        "from random import choice"
      ]
    },
    {
      "cell_type": "markdown",
      "metadata": {
        "id": "-vCM3Z0BmAw9"
      },
      "source": [
        "This function chooses a random element from a list.  Run this code a few times:"
      ]
    },
    {
      "cell_type": "code",
      "execution_count": null,
      "metadata": {
        "colab": {
          "base_uri": "https://localhost:8080/"
        },
        "id": "FGMf-UmAl_uf",
        "outputId": "429b8c41-9be1-4a02-90b3-a22864a27354"
      },
      "outputs": [
        {
          "output_type": "execute_result",
          "data": {
            "text/plain": [
              "289"
            ]
          },
          "metadata": {},
          "execution_count": 12
        }
      ],
      "source": [
        "choice([1, 17, 34, 289])"
      ]
    },
    {
      "cell_type": "markdown",
      "metadata": {
        "id": "ZmLqxclQYMpl"
      },
      "source": [
        "Now, create a function called `makePlay(nextwords,n)` which takes a dictionary `nextwords` and a number `n`, and follows these steps:\n",
        "1. Define an empty `newplay` string.  (I did this for you.)\n",
        "2. Set `currentword` equal to '%'.\n",
        "3. Start a for-loop that will run `n` times.\n",
        "4. Randomly choose a word from the list `nextwords[currentword]`.\n",
        "5. Add the chosen word to `newplay`, followed by a space `' '` character.\n",
        "6. If the chosen word ends in a period, add a newline character '\\n' and set `currentword` equal to `%`.\n",
        "7. Otherwise, set `currentword` equal to the chosen word.\n",
        "8. Go back to step 4.\n",
        "9. When all `n` iterations have finished, your function should return `newplay`."
      ]
    },
    {
      "cell_type": "code",
      "execution_count": null,
      "metadata": {
        "id": "gMxDF-MiYqD2"
      },
      "outputs": [],
      "source": [
        "def makePlay(nextwords,n):\n",
        "  newplay=''\n",
        "  currentword = '%'\n",
        "  for _ in range(n):\n",
        "    chosen_word = choice(nextwords[currentword])\n",
        "    newplay += chosen_word + ' '\n",
        "    if chosen_word.endswith('.'):\n",
        "        newplay += '\\n'\n",
        "        currentword = '%'\n",
        "\n",
        "    else:\n",
        "      currentword = chosen_word\n",
        "\n",
        "  return newplay\n"
      ]
    },
    {
      "cell_type": "markdown",
      "metadata": {
        "id": "v_uCxqDZtuhP"
      },
      "source": [
        "Now create a 1000 word Shakesperian play by running the following code:"
      ]
    },
    {
      "cell_type": "code",
      "execution_count": null,
      "metadata": {
        "colab": {
          "base_uri": "https://localhost:8080/"
        },
        "id": "KVtzPXWWEdDR",
        "outputId": "10f290e3-1df8-4b9a-c132-94e57bca6b6a"
      },
      "outputs": [
        {
          "output_type": "stream",
          "name": "stdout",
          "text": [
            "Rome. \n",
            "Sometimes to great tumult. \n",
            "The archbishopric of you have done when he comes. \n",
            "Leon. \n",
            "Not she; yea, though they account I to your own knee? DUKE. \n",
            "As to Messina. \n",
            "Exit An they be- who had not quickly woo'd the gate, The wren with ice, and deadly. \n",
            "And prize itself abused, and down Achilles' spear, Is this: My Lord Protector's mind that my teeth, And time to their intelligence- thus: We lack'd gold more care of the worse than bloody nature; there's news abroad? BELARIUS. \n",
            "SLENDER. \n",
            "Thy brother's death to your present thought, my love, For why should be wiser. \n",
            "IAGO. \n",
            "That then two girls, which doing, thus afflicted fancy any gold; For you the welkin with my care-tun'd tongue from his face is no more. \n",
            "Edm. \n",
            "Come on men of my fortunes am not enough to cut, he from his visage from foreign mart As I will ourselves to a passion shakes out of region cloud speak you: that was indeed are his. \n",
            "Enter three or sky changes of all alone do it my theme; In sooth, are to our books. \n",
            "What say'st thou drunk'st last. \n",
            "BELARIUS. \n",
            "KING. \n",
            "WOLSEY. \n",
            "Here 'tis; so rough and continue thankful. \n",
            "I am not meet me tell you scour you to beg relief among ye; I would desires. \n",
            "ISABELLA. \n",
            "Here in two nights as it rain'd many worthy lady, pardon. \n",
            "By looking on indeed! By penitence than all dead. \n",
            "SICINIUS. \n",
            "Prince. \n",
            "FLUELLEN. \n",
            "Now, York, hadst some friends of CORIOLANUS with the churchyard; yet could speak thus? TITUS. \n",
            "TIMON. \n",
            "And what wrongs on none; No more than this? FLORIZEL. \n",
            "MALCOLM. \n",
            "NORFOLK. \n",
            "Give me In Richard's side will give you would incense the lion slept, Whilst to part. \n",
            "To Oxford, Vouchsafe a villain, what eyes for good Lord Hungerford. \n",
            "This needs appear To be George, my lady's face. \n",
            "[Exit CAIUS] Pray that I swear to be so fellest manner of that. \n",
            "Should be true; there's laying manors on me. \n",
            "Why, all my nature of the grave. \n",
            "I do beg any, be paid you for't, my lord; I will be found False king, is no touch But great lord. \n",
            "Arm you must hence we fear, I saw them of his watchful soul. \n",
            "I am marvellous distemper'd. \n",
            "BLANCH. \n",
            "Be seen in our purposes before me. \n",
            "A heart beats for a thing it off. \n",
            "SIR JOHN and about my faith, I'll whip about my flesh, blood, And thou, sad tears. \n",
            "Fran. \n",
            "Shall I call'd so planted and a calendar! Come to Mariana A thousand irreligious piety! CHIRON. \n",
            "CORNELIUS. \n",
            "Nor store of this. \n",
            "A pain have liv'd at Coventry. \n",
            "Pale as loud and quivering thigh, come away the sleeve, and fill fields Where but with me. \n",
            "Hereafter, in bold conspiracy! O thou speak'st. \n",
            "Take all lie seven hurts by my hopes prodigiously be ingenious, forward, sir. \n",
            "[Strikes him] LORDS. \n",
            "Glou. \n",
            "Charges she is loyalty? WARWICK. \n",
            "AEGEON. \n",
            "How shall we gave the news as loving greetings To me this ring? At many my desire, Will you hence, That hath a truth. \n",
            "Happily he's fatherless. \n",
            "Enter the laws and greatness too young Shall I am. \n",
            "MESSENGER. \n",
            "Glou. \n",
            "I rather be sure That would Hector was beautiful; Mine eyes Are both mine oaths to his celestial harmony is mingled sums of the lin'd crutch and dance, Nor did run That govern home My sinful earth, which was murdered where unbruised Greeks surpris'd To sunder such an if I am a haberdasher's wife to know your husbands.- Begin, fool: Was foully spoken like you. \n",
            "<<THIS ELECTRONIC AND MACHINE READABLE COPIES MAY BE DISTRIBUTED OR USED COMMERCIALLY. \n",
            "But hath sent me Ling'ring perdition, worse than in a saying: 'The fool I borrowed- three farthings. \n",
            "King. \n",
            "What news of a sprat you turn the sun. \n",
            "Ah, my conversion So him again? SIMPCOX. \n",
            "Please your griefs; to my soul As to deliver or stir up my lord; He does he was she suspect, A kind kinsman- warriors did take away, And to church and give his nature, Zeal and my bond. \n",
            "Claud. \n",
            "So had thought It is the hill he left part we had of pins, They use as your souls. \n",
            "TOUCHSTONE. \n",
            "Here in all my eyes Cordelia as my heel, So thou know it well. \n",
            "LAFEU. \n",
            "Be not the gad? Edmund, I must have beaten as to beslubber our counsel. \n",
            "It has spoke with his hangman. \n",
            "Spread, Davy, against our sex. \n",
            "You'll say I express to hide than I shall see the herald? know'st our pageants us. \n",
            "DUKE. \n",
            "ROMAN. \n",
            "O monstrous! What but you along like mine, For the earth. \n",
            "BELARIUS. \n",
            "Scurvy knave! SECOND LORD. \n",
            "Have uncontemn'd gone and he's like-that's dead; But if dreams affright thee ill. \n",
            "MENENIUS. \n",
            "Who brought the wasteful entrance; but what We will. \n",
            "WARWICK is dead. \n",
            "Enter Juliet. \n",
            "A stirring love. \n",
            "CAESAR. \n",
            "What think but yet I draw this loss is none enter all the Lethe wharf, Wouldst thou art troublesome. \n",
            "I trow- Which so-long-sund'red friends with him Katherine is at your bed, and outstare him. \n",
            "The King and bane unto your daughter have spoke; let them gather we sweat. \n",
            "Welcome, good mine own it. \n",
            "AUMERLE. \n",
            "Fare you are you! Rom. \n",
            "Venice. \n",
            "Fellow, give fire. \n",
            "OTHELLO. \n",
            "SHEPHERD. \n",
            "Regan, led.] Enter ALONSO, SEBASTIAN, brother justice lives a son EDMUND, EARL OF SYRACUSE. \n",
            "Past speaking small] 'Ah ha! ha! MARCUS. \n",
            "QUEEN MARGARET. \n",
            "Or, rather, For them now.- O noble father left thee than I should be, the night Envelop you, Master Shallow FANG and every tongue lick The multitudinous seas threaten, they bark on Virgilia GENTLEWOMAN attending her love her; And this side of vexation almost stretch Without annoying me. \n",
            "Exeunt. \n",
            "I charge you. \n",
            "Good time and of liquor. \n",
            "PRINCESS OF WILLIAM LUCY SIR HENRY THE COMPLETE WORKS OF ILLINOIS BENEDICTINE COLLEGE WITH PERMISSION. \n",
            "But, soft! What is't not being shut our fortunes that he cannot so green, By my heart. \n",
            "PISANIO. \n",
            "Thanks, uncle hath so unnatural hags! Why ask the world enrag'd, Nor taste, sans bound. \n",
            "O, matter to change for this would to forgive me, Madding my suit? REIGNIER. \n",
            "Ben. \n",
            "Will \n"
          ]
        }
      ],
      "source": [
        "nextwords=createNextwords(shakespeare_words)\n",
        "newplay=makePlay(nextwords,1000)\n",
        "print(newplay)"
      ]
    },
    {
      "cell_type": "markdown",
      "metadata": {
        "id": "cHcYHBcNu65y"
      },
      "source": [
        "At this point you might enjoy finding other sources of text on the internet and replacing the url at the top of this notebook. You can use song lyrics, news articles, etc. You just need to find files ending with '.txt'. Alternatively, you can copy and paste any block of text from any file into colab, assign it to the variable `text`, and then use wordlist=text.split() to get a list of words."
      ]
    },
    {
      "cell_type": "markdown",
      "metadata": {
        "id": "SOZ_vzwJoG45"
      },
      "source": [
        "## Bonus:\n",
        "\n",
        "Recall the following recursive function that we used to define the Fibonacci numbers:"
      ]
    },
    {
      "cell_type": "code",
      "execution_count": null,
      "metadata": {
        "id": "KTj2L--_oQDu"
      },
      "outputs": [],
      "source": [
        "def fibonacci(n):\n",
        "  # Base cases: F(0) = 0, F(1) = 1\n",
        "  if n == 0:\n",
        "    return 0\n",
        "  elif n == 1:\n",
        "    return 1\n",
        "  else:\n",
        "    # Recursive case: F(n) = F(n-1) + F(n-2)\n",
        "    return fibonacci(n - 1) + fibonacci(n - 2)\n"
      ]
    },
    {
      "cell_type": "code",
      "source": [
        "fibonacci(17)"
      ],
      "metadata": {
        "colab": {
          "base_uri": "https://localhost:8080/"
        },
        "id": "HSu9d694_l-u",
        "outputId": "f6aa5e51-0b1b-4997-fb3b-a8026bae90cb"
      },
      "execution_count": null,
      "outputs": [
        {
          "output_type": "execute_result",
          "data": {
            "text/plain": [
              "1597"
            ]
          },
          "metadata": {},
          "execution_count": 21
        }
      ]
    },
    {
      "cell_type": "code",
      "source": [
        "def fibonacci(n):\n",
        "    if n == 0:\n",
        "        return 0\n",
        "    elif n == 1:\n",
        "        return 1\n",
        "    else:\n",
        "        return fibonacci(n - 1) + fibonacci(n - 2)\n",
        "\n",
        "print(fibonacci(17))"
      ],
      "metadata": {
        "colab": {
          "base_uri": "https://localhost:8080/"
        },
        "id": "i9P3HRJIASWn",
        "outputId": "c47119b1-a89b-4e6c-a0ad-3d1b8008c64c"
      },
      "execution_count": null,
      "outputs": [
        {
          "output_type": "stream",
          "name": "stdout",
          "text": [
            "1597\n"
          ]
        }
      ]
    },
    {
      "cell_type": "code",
      "source": [
        "def fibonacci_sequence():\n",
        "    fib_sequence = [0, 1]\n",
        "    while True:\n",
        "        next_fib = fib_sequence[-1] + fib_sequence[-2]\n",
        "        if next_fib <= 1597:\n",
        "            fib_sequence.append(next_fib)\n",
        "        else:\n",
        "            break\n",
        "    return fib_sequence\n"
      ],
      "metadata": {
        "id": "ts0Wo3UYCyHV"
      },
      "execution_count": null,
      "outputs": []
    },
    {
      "cell_type": "code",
      "source": [
        "fib_numbers = fibonacci_sequence()\n",
        "num_fibonacci_numbers = len(fib_numbers)\n",
        "print(num_fibonacci_numbers)"
      ],
      "metadata": {
        "colab": {
          "base_uri": "https://localhost:8080/"
        },
        "id": "eztWYAh7DKq9",
        "outputId": "5f1b3638-8d52-4ee8-eed6-7ca8b3420190"
      },
      "execution_count": null,
      "outputs": [
        {
          "output_type": "stream",
          "name": "stdout",
          "text": [
            "18\n"
          ]
        }
      ]
    },
    {
      "cell_type": "markdown",
      "source": [
        "The fibonacci function is actually being called 18 times not 17 as it says"
      ],
      "metadata": {
        "id": "zNQq6mGZE7eo"
      }
    },
    {
      "cell_type": "markdown",
      "metadata": {
        "id": "C-PtiPKwod0m"
      },
      "source": [
        "Here is the question.  If you run this line of code:  \n",
        "`fibonacci(17)`  \n",
        "how many times does the function `fibonacci()` get called?  \n",
        "(The answer is not 1597, which is the value returned by the function.)"
      ]
    }
  ],
  "metadata": {
    "colab": {
      "provenance": [],
      "include_colab_link": true
    },
    "kernelspec": {
      "display_name": "Python 3",
      "name": "python3"
    },
    "language_info": {
      "name": "python"
    }
  },
  "nbformat": 4,
  "nbformat_minor": 0
}