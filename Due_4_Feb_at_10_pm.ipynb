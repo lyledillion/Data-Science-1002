{
  "nbformat": 4,
  "nbformat_minor": 0,
  "metadata": {
    "colab": {
      "provenance": [],
      "include_colab_link": true
    },
    "kernelspec": {
      "name": "python3",
      "display_name": "Python 3"
    },
    "language_info": {
      "name": "python"
    }
  },
  "cells": [
    {
      "cell_type": "markdown",
      "metadata": {
        "id": "view-in-github",
        "colab_type": "text"
      },
      "source": [
        "<a href=\"https://colab.research.google.com/github/lyledillion/Data-Science-1002/blob/main/Due_4_Feb_at_10_pm.ipynb\" target=\"_parent\"><img src=\"https://colab.research.google.com/assets/colab-badge.svg\" alt=\"Open In Colab\"/></a>"
      ]
    },
    {
      "cell_type": "markdown",
      "source": [
        "## DS 1002 homework due Sunday Feb 4 at 10 pm\n"
      ],
      "metadata": {
        "id": "zAw2bmn-TjFJ"
      }
    },
    {
      "cell_type": "markdown",
      "source": [
        "\n",
        "The notebook from Wednesday's class is in my GitHib repository, including the little script we wrote at the end to find mangos in a list of fruit.  The file is called `MorePythonBasics.ipynb`.\n",
        "\n",
        "(By the way I wondered if the correct spelling was \"mangos\" or \"mangoes\" and I found [this](https://www.mango.org/blog-mangos-or-mangoes/)!  Who knew?  There's a National Mango Board!  And they're prepared to adjudicate this and other difficult mango-related questions.)\n",
        "\n",
        "\n"
      ],
      "metadata": {
        "id": "Cmf4xleCSWCu"
      }
    },
    {
      "cell_type": "markdown",
      "source": [
        "### Problem 1:  finding fruit\n",
        "\n",
        "Adapt the function we wrote in class so that it takes two arguments,\n",
        "\n",
        "`fruit` and `hungryfor` ,\n",
        "\n",
        "and then searches through the list `fruit` for the item `hungryfor`.  The line that calls the function should look like\n",
        "\n",
        "`find_fruit(food, hungryfor)`\n",
        "\n",
        "Make it print out the results in the same way, so for example if `food` is what we entered in class and `hungryfor = \"tomatoes\"` then the output will be\n",
        "\n",
        "```python\n",
        "No tomatoes here.\n",
        "No tomatoes here.\n",
        "No tomatoes here.\n",
        "No tomatoes here.\n",
        "No tomatoes here.\n",
        "```\n",
        "Test your code by changing the values of `food` and `hungryfor` and make sure the output is what you expect.  Show a few outputs, each in its own code chunk.\n",
        "\n"
      ],
      "metadata": {
        "id": "rJLyGryAThhp"
      }
    },
    {
      "cell_type": "code",
      "source": [
        "\n",
        "food = [\"bread\", \"butter\", \"jam\", \"honey\", \"apples\"]\n",
        "def find_hungryfor(food):\n",
        "  for hungryfor in food:\n",
        "    if hungryfor == \"honey\" :\n",
        "      print(\"Hooray! I found honey.\")\n",
        "    else:\n",
        "      print(\"No honey here.\")\n",
        "\n",
        "find_hungryfor(food)\n"
      ],
      "metadata": {
        "id": "YXwLLFCt6H2f",
        "outputId": "76f3d29b-86cc-4ce8-9302-aae18c7cbbc7",
        "colab": {
          "base_uri": "https://localhost:8080/"
        }
      },
      "execution_count": 48,
      "outputs": [
        {
          "output_type": "stream",
          "name": "stdout",
          "text": [
            "No honey here.\n",
            "No honey here.\n",
            "No honey here.\n",
            "Hooray! I found honey.\n",
            "No honey here.\n"
          ]
        }
      ]
    },
    {
      "cell_type": "code",
      "source": [
        "colors = [\"red\", \"orange\", \"yellow\", \"green\", \"blue\"]\n",
        "def find_favecolor(colors):\n",
        "  for favecolor in colors:\n",
        "    if favecolor == \"green\" :\n",
        "      print(\"Hooray! I found green.\")\n",
        "    else:\n",
        "      print(\"No green here.\")\n",
        "\n",
        "find_favecolor(colors)"
      ],
      "metadata": {
        "id": "60w0XNjjJNAy",
        "outputId": "2685a31c-cf39-448e-841b-26e5a5b013e5",
        "colab": {
          "base_uri": "https://localhost:8080/"
        }
      },
      "execution_count": 47,
      "outputs": [
        {
          "output_type": "stream",
          "name": "stdout",
          "text": [
            "No green here.\n",
            "No green here.\n",
            "No green here.\n",
            "Hooray! I found green.\n",
            "No green here.\n"
          ]
        }
      ]
    },
    {
      "cell_type": "code",
      "source": [
        "pets = [\"snake\", \"dog\", \"cat\", \"rabbit\", \"horse\"]\n",
        "def find_wantapet(pets):\n",
        "  for wantapet in pets:\n",
        "    if wantapet == \"horse\" :\n",
        "      print(\"Hooray! I found a horse.\")\n",
        "    else:\n",
        "      print(\"No horses here.\")\n",
        "\n",
        "find_wantapet(pets)"
      ],
      "metadata": {
        "id": "N75MgeqjI_Zq",
        "outputId": "be08e4db-e6a2-4325-d574-15a87b1eab3a",
        "colab": {
          "base_uri": "https://localhost:8080/"
        }
      },
      "execution_count": 46,
      "outputs": [
        {
          "output_type": "stream",
          "name": "stdout",
          "text": [
            "No horses here.\n",
            "No horses here.\n",
            "No horses here.\n",
            "No horses here.\n",
            "Hooray! I found a horse.\n"
          ]
        }
      ]
    },
    {
      "cell_type": "markdown",
      "source": [
        "#### Notes\n",
        "1. Once you have run a code chunk in the notebook, it will remember that it has been run.  You don't have to call the function in the same code chunk where the function is defined.  In other words, to call the function with new inputs you can simply make a new code chunk, change the inputs, and call the function.  *You don't have to retype the definition of the function each time.*\n",
        "\n",
        "2. Make sure you clean things up when you're done, so you don't include old code that doesn't work or old incorrect outputs.\n"
      ],
      "metadata": {
        "id": "AMp-a1ym6W7w"
      }
    },
    {
      "cell_type": "markdown",
      "source": [
        "### Problem 2:  the `input()` function\n",
        "\n",
        "(a) Programming gets way more fun when you start to interact with your own programs!  Here is a function that lets you start doing that.  Run the following code and see what happens:\n"
      ],
      "metadata": {
        "id": "R-s9cZ6GYWNX"
      }
    },
    {
      "cell_type": "code",
      "source": [
        "input()\n",
        "print(\"Hello there!\")"
      ],
      "metadata": {
        "id": "IEK8O2qNYkXn",
        "outputId": "5dea3323-d936-4b30-fb27-5a8c2f65e71b",
        "colab": {
          "base_uri": "https://localhost:8080/"
        }
      },
      "execution_count": 22,
      "outputs": [
        {
          "output_type": "stream",
          "name": "stdout",
          "text": [
            "hi how was your day\n",
            "Hello there!\n"
          ]
        }
      ]
    },
    {
      "cell_type": "markdown",
      "source": [
        "(b) As you just saw, the code waits for you to enter something before it continues.  If you want to actually use the input in the code, you should assign its value to a variable:"
      ],
      "metadata": {
        "id": "sktZu8wWzFF6"
      }
    },
    {
      "cell_type": "code",
      "source": [
        "message = input()\n",
        "print(message)"
      ],
      "metadata": {
        "id": "fMmBkzbyz9Ty",
        "outputId": "1a7f0648-5a8c-43b7-9bbf-5e7cc2131403",
        "colab": {
          "base_uri": "https://localhost:8080/"
        }
      },
      "execution_count": 23,
      "outputs": [
        {
          "output_type": "stream",
          "name": "stdout",
          "text": [
            "I have two dogs at home.\n",
            "I have two dogs at home.\n"
          ]
        }
      ]
    },
    {
      "cell_type": "markdown",
      "source": [
        "(c) Now you can start interacting.  Write some code that asks the user what they are hungry for (using a print statement), and then takes the user input, and then runs the `find_fruit` function from the previous code block using the user input as the `hungryfor` variable.  Test your code, and then include a few different outputs that demonstrate that the code works."
      ],
      "metadata": {
        "id": "ny41z-dQYmjQ"
      }
    },
    {
      "cell_type": "code",
      "source": [
        "hungryfor = input(\"What are you hungry for? Enter a fruit: \")\n",
        "def find_fruit (food, hungryfor):\n",
        "  if hungryfor in food:\n",
        "    print(f\"We have {hungryfor} for you!\")\n",
        "  else:\n",
        "    print(f\"Sorry, we do not have {hungryfor} today.\")\n",
        "fruits = (\"apple\", \"banana\", \"grape\", \"strawberry\", \"watermelon\" )\n",
        "find_fruit(fruits, hungryfor)\n"
      ],
      "metadata": {
        "id": "3rUd7zIUl5pc",
        "outputId": "5b7e3f64-1e94-460d-b4c8-4d5d8828a694",
        "colab": {
          "base_uri": "https://localhost:8080/"
        }
      },
      "execution_count": 43,
      "outputs": [
        {
          "output_type": "stream",
          "name": "stdout",
          "text": [
            "What are you hungry for? Enter a fruit: apple\n",
            "We have apple for you!\n"
          ]
        }
      ]
    },
    {
      "cell_type": "code",
      "source": [
        "hungryfor = input(\"What are you hungry for? Enter a fruit: \")\n",
        "def find_fruit (food, hungryfor):\n",
        "  if hungryfor in food:\n",
        "    print(f\"We have {hungryfor} for you!\")\n",
        "  else:\n",
        "    print(f\"Sorry, we do not have {hungryfor} today.\")\n",
        "fruits = (\"apple\", \"banana\", \"grape\", \"strawberry\", \"watermelon\" )\n",
        "find_fruit(fruits, hungryfor)"
      ],
      "metadata": {
        "id": "JUZYavXOfVEh",
        "outputId": "1818cef6-58a1-4f6d-c912-77022292f7ca",
        "colab": {
          "base_uri": "https://localhost:8080/"
        }
      },
      "execution_count": 45,
      "outputs": [
        {
          "output_type": "stream",
          "name": "stdout",
          "text": [
            "What are you hungry for? Enter a fruit: blueberries\n",
            "Sorry, we do not have blueberries today.\n"
          ]
        }
      ]
    },
    {
      "cell_type": "code",
      "source": [
        "# run it here, and add more code chunks for more runs\n",
        "hungryfor = input(\"What are you hungry for? Enter a fruit: \")\n",
        "def find_fruit (food, hungryfor):\n",
        "  if hungryfor in food:\n",
        "    print(f\"We have {hungryfor} for you!\")\n",
        "  else:\n",
        "    print(f\"Sorry, we do not have {hungryfor} today.\")\n",
        "fruits = (\"apple\", \"banana\", \"grape\", \"strawberry\", \"watermelon\" )\n",
        "find_fruit(fruits, hungryfor)"
      ],
      "metadata": {
        "id": "sQQVP1oa5dR7",
        "outputId": "3ae7cdbd-106c-4ec3-a492-8c018e44405c",
        "colab": {
          "base_uri": "https://localhost:8080/"
        }
      },
      "execution_count": 44,
      "outputs": [
        {
          "output_type": "stream",
          "name": "stdout",
          "text": [
            "What are you hungry for? Enter a fruit: watermelon\n",
            "We have watermelon for you!\n"
          ]
        }
      ]
    },
    {
      "cell_type": "markdown",
      "source": [
        "### Problem 3:  ratings  \n",
        "Write a piece of code which prompts a user with the question \"What is your rating? (1-10)\" and then asks for user input.  Let's say the input is 3.  Once the input is received, print out a message that says.\n",
        "\n",
        "\"Your rating is *** .\"\n",
        "\n",
        "Obviously, your program should print the number of stars corresponding to the input!  If the input is 5, it should print\n",
        "\n",
        "\"Your rating is ***** .\"\n",
        "\n",
        "Show at least two outputs of your code."
      ],
      "metadata": {
        "id": "5CWOlHBz0xoZ"
      }
    },
    {
      "cell_type": "code",
      "source": [
        "# you might have to copy the code to show another output\n",
        "# (unless you figure out another way to do it)\n",
        "\n",
        "my_rating= input(\"what is your rating? (1-10): \")\n",
        "number = int(my_rating)\n",
        "print (f\"your rating is {'*' * number}\")"
      ],
      "metadata": {
        "id": "nxm67oCk8Ukn",
        "outputId": "2f4411aa-be53-4713-e7a9-b26ee4b7c952",
        "colab": {
          "base_uri": "https://localhost:8080/"
        }
      },
      "execution_count": 31,
      "outputs": [
        {
          "output_type": "stream",
          "name": "stdout",
          "text": [
            "what is your rating? (1-10): 8\n",
            "your rating is ********\n"
          ]
        }
      ]
    },
    {
      "cell_type": "code",
      "source": [
        "my_rating= input(\"what is your rating? (1-10): \")\n",
        "number = int(my_rating)\n",
        "print (f\"your rating is {'*' * number}\")"
      ],
      "metadata": {
        "id": "0BXmL437lFpq",
        "outputId": "bb634a54-7006-4e50-efd5-da9e464ca63f",
        "colab": {
          "base_uri": "https://localhost:8080/"
        }
      },
      "execution_count": 32,
      "outputs": [
        {
          "output_type": "stream",
          "name": "stdout",
          "text": [
            "what is your rating? (1-10): 2\n",
            "your rating is **\n"
          ]
        }
      ]
    },
    {
      "cell_type": "code",
      "source": [
        "my_rating= input(\"what is your rating? (1-10): \")\n",
        "number = int(my_rating)\n",
        "print (f\"your rating is {'*' * number}\")"
      ],
      "metadata": {
        "id": "VWWYEy-xlMXH",
        "outputId": "6c073f8f-d739-4b91-9048-94b10a8e16ea",
        "colab": {
          "base_uri": "https://localhost:8080/"
        }
      },
      "execution_count": 33,
      "outputs": [
        {
          "output_type": "stream",
          "name": "stdout",
          "text": [
            "what is your rating? (1-10): 5\n",
            "your rating is *****\n"
          ]
        }
      ]
    },
    {
      "cell_type": "markdown",
      "source": [
        "You do not have to do this as part of the assignment, but one thing to think about with any code that has **interactivity** is that you want to make it **robust**.  This means you should imagine someone is *trying* to break your code, and you should try to make it as indestructible as possible.\n",
        "\n",
        "What will happen to your code if someone enters 3.5?  Or -12?  Or \"nonsense\"?  Test it and see.  Think about how you might guard against errors.\n"
      ],
      "metadata": {
        "id": "VRfc9puT2yac"
      }
    }
  ]
}