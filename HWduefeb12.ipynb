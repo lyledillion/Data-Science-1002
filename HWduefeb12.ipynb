{
  "nbformat": 4,
  "nbformat_minor": 0,
  "metadata": {
    "colab": {
      "provenance": [],
      "authorship_tag": "ABX9TyNcFPYMutLXjXfNXLER8Kwi",
      "include_colab_link": true
    },
    "kernelspec": {
      "name": "python3",
      "display_name": "Python 3"
    },
    "language_info": {
      "name": "python"
    }
  },
  "cells": [
    {
      "cell_type": "markdown",
      "metadata": {
        "id": "view-in-github",
        "colab_type": "text"
      },
      "source": [
        "<a href=\"https://colab.research.google.com/github/lyledillion/Data-Science-1002/blob/main/HWduefeb12.ipynb\" target=\"_parent\"><img src=\"https://colab.research.google.com/assets/colab-badge.svg\" alt=\"Open In Colab\"/></a>"
      ]
    },
    {
      "cell_type": "markdown",
      "source": [
        "Contributor: Lyle Dillion. This assignment took me around an hour to fully think through, test, and finalize."
      ],
      "metadata": {
        "id": "m3n8nFbShwNs"
      }
    },
    {
      "cell_type": "code",
      "execution_count": 22,
      "metadata": {
        "colab": {
          "base_uri": "https://localhost:8080/"
        },
        "id": "x9nQzm7vDXgg",
        "outputId": "dd410495-b69a-4900-80f9-f07568232914"
      },
      "outputs": [
        {
          "output_type": "stream",
          "name": "stdout",
          "text": [
            "We are going to play a game where I ask you to guess the number. Ready?\n",
            "Guess the number (between 0 and 100): 44\n",
            "Too low! Try again.\n",
            "Guess the number (between 0 and 100): 52\n",
            "Too low! Try again.\n",
            "Guess the number (between 0 and 100): 699\n",
            "Please enter a valid guess between 0 and 100.\n",
            "Guess the number (between 0 and 100): 77\n",
            "Too low! Try again.\n",
            "Guess the number (between 0 and 100): 94\n",
            "Too low! Try again.\n",
            "Guess the number (between 0 and 100): 99\n",
            "Too low! Try again.\n",
            "Guess the number (between 0 and 100): 100\n",
            "You got it! It took you 6 guesses.\n"
          ]
        }
      ],
      "source": [
        "\n",
        "import numpy\n",
        "\n",
        "import random\n",
        "print (\"We are going to play a game where I ask you to guess the number. Ready?\")\n",
        "def guess_the_number():\n",
        "    target_number = random.randint(0, 100)\n",
        "\n",
        "    guess_count = 0\n",
        "    guessed_correctly = False\n",
        "\n",
        "    while not guessed_correctly:\n",
        "        user_guess = input(\"Guess the number (between 0 and 100): \")\n",
        "\n",
        "        try:\n",
        "            user_guess = int(user_guess)\n",
        "\n",
        "            if 0 <= user_guess <= 100:\n",
        "                guess_count += 1\n",
        "\n",
        "                if user_guess == target_number:\n",
        "                    guessed_correctly = True\n",
        "                    print(f\"You got it! It took you {guess_count} guesses.\")\n",
        "                elif user_guess > target_number:\n",
        "                    print(\"Too high! Try again.\")\n",
        "                else:\n",
        "                    print(\"Too low! Try again.\")\n",
        "            else:\n",
        "                print(\"Please enter a valid guess between 0 and 100.\")\n",
        "        except ValueError:\n",
        "            print(\"Please enter a valid integer.\")\n",
        "\n",
        "guess_the_number()\n"
      ]
    }
  ]
}